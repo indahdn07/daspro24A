{
 "cells": [
  {
   "cell_type": "code",
   "execution_count": 23,
   "id": "b051a286-8d93-4c69-88d0-feb207e56c70",
   "metadata": {},
   "outputs": [
    {
     "name": "stdout",
     "output_type": "stream",
     "text": [
      "\n",
      "====Menu Utama====\n",
      "1. Aritmatika\n",
      "2. Konversi\n",
      "3. Ubah Bilangan\n",
      "4. Keluar\n"
     ]
    },
    {
     "name": "stdin",
     "output_type": "stream",
     "text": [
      "Pilih menu (1-4):  1\n"
     ]
    },
    {
     "name": "stdout",
     "output_type": "stream",
     "text": [
      "\n",
      "====Menu Aritmatika====\n",
      "1. Penjumlahan\n",
      "2. Perpangkatan\n",
      "3. Perkalian\n"
     ]
    },
    {
     "name": "stdin",
     "output_type": "stream",
     "text": [
      "Pilih operasi (1-3):  3\n",
      "Masukkan bilangan pertama:  6\n",
      "Masukkan bilangan kedua:  2\n"
     ]
    },
    {
     "name": "stdout",
     "output_type": "stream",
     "text": [
      "Hasil perkalian: 12\n",
      "\n",
      "====Menu Utama====\n",
      "1. Aritmatika\n",
      "2. Konversi\n",
      "3. Ubah Bilangan\n",
      "4. Keluar\n"
     ]
    },
    {
     "name": "stdin",
     "output_type": "stream",
     "text": [
      "Pilih menu (1-4):  2\n"
     ]
    },
    {
     "name": "stdout",
     "output_type": "stream",
     "text": [
      "\n",
      "====Menu Konversi====\n",
      "1. CM to M\n",
      "2. M to CM\n"
     ]
    },
    {
     "name": "stdin",
     "output_type": "stream",
     "text": [
      "Pilih konversi (1-2):  2\n",
      "Masukkan nilai:  8\n"
     ]
    },
    {
     "name": "stdout",
     "output_type": "stream",
     "text": [
      "8 m = 800 cm\n",
      "\n",
      "====Menu Utama====\n",
      "1. Aritmatika\n",
      "2. Konversi\n",
      "3. Ubah Bilangan\n",
      "4. Keluar\n"
     ]
    },
    {
     "name": "stdin",
     "output_type": "stream",
     "text": [
      "Pilih menu (1-4):  3\n"
     ]
    },
    {
     "name": "stdout",
     "output_type": "stream",
     "text": [
      "\n",
      "====Menu Ubah Bilangan====\n",
      "1. Desimal to Biner\n",
      "2. Desimal to Oktal\n",
      "3. Desimal to Hexadesimal\n"
     ]
    },
    {
     "name": "stdin",
     "output_type": "stream",
     "text": [
      "Pilih konversi (1-3):  1\n",
      "Masukkan bilangan desimal:  7\n"
     ]
    },
    {
     "name": "stdout",
     "output_type": "stream",
     "text": [
      "7 dalam biner: 0b111\n",
      "\n",
      "====Menu Utama====\n",
      "1. Aritmatika\n",
      "2. Konversi\n",
      "3. Ubah Bilangan\n",
      "4. Keluar\n"
     ]
    },
    {
     "name": "stdin",
     "output_type": "stream",
     "text": [
      "Pilih menu (1-4):  4\n"
     ]
    },
    {
     "name": "stdout",
     "output_type": "stream",
     "text": [
      "Terima kasih telah menggunakan program ini.\n"
     ]
    }
   ],
   "source": [
    "import Aritmatika.math as math\n",
    "import Konversi.convert as cv\n",
    "import UbahBilangan.ubahbilangan as ub\n",
    "\n",
    "def menu_aritmatika():\n",
    "    print(\"\\n====Menu Aritmatika====\")\n",
    "    print(\"1. Penjumlahan\")\n",
    "    print(\"2. Perpangkatan\")\n",
    "    print(\"3. Perkalian\")\n",
    "    pilihan = input(\"Pilih operasi (1-3): \")\n",
    "    \n",
    "    a = int(input(\"Masukkan bilangan pertama: \"))\n",
    "    b = int(input(\"Masukkan bilangan kedua: \"))\n",
    "    \n",
    "    if pilihan == \"1\":\n",
    "        Penjumlahan = math.penjumlahan(a, b)\n",
    "        print(f\"Hasil penjumlahan: {Pemjumlahan}\")\n",
    "    elif pilihan == \"2\":\n",
    "        Perpangkatan = math.perpangkatan(a, b)\n",
    "        print(f\"Hasil perpangkatan: {Perpangkatan}\")\n",
    "    elif pilihan == \"3\":\n",
    "        Perkalian = math.perkalian(a, b)\n",
    "        print(f\"Hasil perkalian: {Perkalian}\")\n",
    "    else:\n",
    "        print(\"Pilihan tidak valid.\")\n",
    "\n",
    "def menu_konversi():\n",
    "    print(\"\\n====Menu Konversi====\")\n",
    "    print(\"1. CM to M\")\n",
    "    print(\"2. M to CM\")\n",
    "    pilihan = input(\"Pilih konversi (1-2): \")\n",
    "    \n",
    "    nilai = int(input(\"Masukkan nilai: \"))\n",
    "    \n",
    "    if pilihan == \"1\":\n",
    "        pjgMt = cv.cmToMeter(nilai)\n",
    "        print(f\"{nilai} cm = {pjgMt} m\")\n",
    "    elif pilihan == \"2\":\n",
    "        pjgCm = cv.meterToCm(nilai)\n",
    "        print(f\"{nilai} m = {pjgCm} cm\")\n",
    "    else:\n",
    "        print(\"Pilihan tidak valid.\")\n",
    "\n",
    "def menu_ubah_bilangan():\n",
    "    print(\"\\n====Menu Ubah Bilangan====\")\n",
    "    print(\"1. Desimal to Biner\")\n",
    "    print(\"2. Desimal to Oktal\")\n",
    "    print(\"3. Desimal to Hexadesimal\")\n",
    "    pilihan = input(\"Pilih konversi (1-3): \")\n",
    "    \n",
    "    angka = int(input(\"Masukkan bilangan desimal: \"))\n",
    "    \n",
    "    if pilihan == \"1\":\n",
    "        hasil = ub.desimalToBiner(angka)\n",
    "        print(f\"{angka} dalam biner: {hasil}\")\n",
    "    elif pilihan == \"2\":\n",
    "        hasil = ub.desimalToOktal(angka)\n",
    "        print(f\"{angka} dalam oktal: {hasil}\")\n",
    "    elif pilihan == \"3\":\n",
    "        hasil = ub.desimalToHexadesimal(angka)\n",
    "        print(f\"{angka} dalam hexadesimal: {hasil}\")\n",
    "    else:\n",
    "        print(\"Pilihan tidak valid.\")\n",
    "\n",
    "while True:\n",
    "        print(\"\\n====Menu Utama====\")\n",
    "        print(\"1. Aritmatika\")\n",
    "        print(\"2. Konversi\")\n",
    "        print(\"3. Ubah Bilangan\")\n",
    "        print(\"4. Keluar\")\n",
    "        pilihan = input(\"Pilih menu (1-4): \")\n",
    "\n",
    "        if pilihan == \"1\":\n",
    "            menu_aritmatika()\n",
    "        elif pilihan == \"2\":\n",
    "            menu_konversi()\n",
    "        elif pilihan == \"3\":\n",
    "            menu_ubah_bilangan()\n",
    "        elif pilihan == \"4\":\n",
    "            print(\"Terima kasih telah menggunakan program ini.\")\n",
    "            break\n",
    "        else:\n",
    "            print(\"Pilihan tidak valid.\")\n",
    "\n",
    " "
   ]
  }
 ],
 "metadata": {
  "kernelspec": {
   "display_name": "Python [conda env:base] *",
   "language": "python",
   "name": "conda-base-py"
  },
  "language_info": {
   "codemirror_mode": {
    "name": "ipython",
    "version": 3
   },
   "file_extension": ".py",
   "mimetype": "text/x-python",
   "name": "python",
   "nbconvert_exporter": "python",
   "pygments_lexer": "ipython3",
   "version": "3.12.7"
  }
 },
 "nbformat": 4,
 "nbformat_minor": 5
}
