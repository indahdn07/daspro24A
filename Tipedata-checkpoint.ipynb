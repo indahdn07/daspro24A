{
 "cells": [
  {
   "cell_type": "code",
   "execution_count": 1,
   "id": "3fc3e32a-bc3e-48b9-9788-8cebf52674e5",
   "metadata": {},
   "outputs": [
    {
     "name": "stdout",
     "output_type": "stream",
     "text": [
      "Nama : Dedi\n",
      "Umur : 20\n",
      "Alamat : Jl. Cibolang\n",
      "Nilai Pemograman : 80.5\n",
      "Status Menikah : False\n"
     ]
    }
   ],
   "source": [
    "name = \"Dedi\"\n",
    "age = 20\n",
    "address,province = \"Jl. Cibolang\",\"7413412\"\n",
    "scorePython = 80.5\n",
    "isMarried = False\n",
    "\n",
    "print(\"Nama :\",name)\n",
    "print(\"Umur :\",age)\n",
    "print(\"Alamat :\",address)\n",
    "print(\"Nilai Pemograman :\", scorePython)\n",
    "print(\"Status Menikah :\",isMarried)"
   ]
  },
  {
   "cell_type": "code",
   "execution_count": 3,
   "id": "25ff2809-b48c-4610-8cad-7208a5104bcd",
   "metadata": {},
   "outputs": [
    {
     "name": "stdout",
     "output_type": "stream",
     "text": [
      "Tipe Data <name> <class 'str'>\n",
      "Tipe Data <age> <class 'int'>\n",
      "Tipe Data <address> <class 'str'>\n",
      "Tipe Data <province> <class 'str'>\n",
      "Tipe Data <scorePython> <class 'float'>\n",
      "Tipe Data <isMarried> <class 'bool'>\n"
     ]
    }
   ],
   "source": [
    "print(\"Tipe Data <name>\",type(name))\n",
    "print(\"Tipe Data <age>\",type(age))\n",
    "print(\"Tipe Data <address>\",type(address))\n",
    "print(\"Tipe Data <province>\",type(province))\n",
    "print(\"Tipe Data <scorePython>\",type(scorePython))\n",
    "print(\"Tipe Data <isMarried>\",type(isMarried))"
   ]
  },
  {
   "cell_type": "code",
   "execution_count": 5,
   "id": "40ce70b2-792a-4ecc-92b9-0ccd0acbad5c",
   "metadata": {},
   "outputs": [
    {
     "name": "stdout",
     "output_type": "stream",
     "text": [
      "7413412-7413412.0-True\n",
      "20-20.0-True\n",
      "0-0.0-False\n"
     ]
    }
   ],
   "source": [
    "#Casting atau konversi Tipe Data\n",
    "#Konversi dari String ke (int,float,bool)\n",
    "strToInt = int(province)\n",
    "strToFloat = float(province)\n",
    "strToBool = bool(province)\n",
    "print(strToInt,strToFloat,strToBool, sep=\"-\")\n",
    "\n",
    "#Konversi dari int ke(str,float,bool)\n",
    "intToStr = str(age)\n",
    "intToFloat = float(age)\n",
    "intToBool = bool(age)\n",
    "print(intToStr,intToFloat,intToBool, sep=\"-\")\n",
    "\n",
    "#Konversi dari bool ke(int,float,bool)\n",
    "boolToInt = int(isMarried)\n",
    "boolToFloat = float(isMarried)\n",
    "boolToStr = str(isMarried)\n",
    "print(boolToInt,boolToFloat,boolToStr, sep=\"-\")"
   ]
  },
  {
   "cell_type": "code",
   "execution_count": 7,
   "id": "b3205de7-8b40-4f2e-8c63-4102edc60c37",
   "metadata": {},
   "outputs": [
    {
     "name": "stdout",
     "output_type": "stream",
     "text": [
      "B\n",
      "g\n"
     ]
    }
   ],
   "source": [
    "city =\"Bandung\"\n",
    "lenCity = len(city)\n",
    "print(city[0])\n",
    "print(city[lenCity-1])"
   ]
  },
  {
   "cell_type": "code",
   "execution_count": 9,
   "id": "f357c7d0-ad47-4025-8f2b-3e7476c0c9f9",
   "metadata": {},
   "outputs": [
    {
     "name": "stdout",
     "output_type": "stream",
     "text": [
      "Nilai Desimal : 200\n",
      "Nilai Desimal dari 0xff: 255\n",
      "Nilai Desimal dari 0b1010: 10\n",
      "Nilai Desimal dari 0o377: 255\n",
      "==========\n",
      "Nilai Biner dari : 200 0b11001000\n",
      "Nilai Octal dari : 200 0o310\n",
      "Nilai Hexa dari : 200 0xc8\n"
     ]
    }
   ],
   "source": [
    "desimal = 200\n",
    "hexa = 0xff\n",
    "biner = 0b1010\n",
    "octal = 0o377\n",
    "\n",
    "print(\"Nilai Desimal :\",desimal)\n",
    "print(\"Nilai Desimal dari 0xff:\",hexa)\n",
    "print(\"Nilai Desimal dari 0b1010:\",biner)\n",
    "print(\"Nilai Desimal dari 0o377:\",octal)\n",
    "print(\"==========\")\n",
    "print(\"Nilai Biner dari :\",desimal, bin(desimal))\n",
    "print(\"Nilai Octal dari :\",desimal, oct(desimal))\n",
    "print(\"Nilai Hexa dari :\",desimal, hex(desimal))"
   ]
  },
  {
   "cell_type": "code",
   "execution_count": 11,
   "id": "07bf4feb-7b06-4cb0-b79a-542bd3716c27",
   "metadata": {},
   "outputs": [
    {
     "name": "stdout",
     "output_type": "stream",
     "text": [
      "['Sukabumi', 'Bandung', 'Bogor', 'Jakarta']\n",
      "Sukabumi\n",
      "Jakarta\n",
      "['Sukabumi', 'Medan', 'Bogor', 'Jakarta']\n",
      "J\n"
     ]
    }
   ],
   "source": [
    "#Tipe data Collection\n",
    "\n",
    "cities = [\"Sukabumi\",\"Bandung\",\"Bogor\",\"Jakarta\"]\n",
    "print(cities)\n",
    "print(cities[0])\n",
    "print(cities[len(cities)-1])\n",
    "cities[1] = \"Medan\"\n",
    "print(cities)\n",
    "print(cities[len(cities)-1][0])"
   ]
  },
  {
   "cell_type": "code",
   "execution_count": 13,
   "id": "d175864d-d4b9-43b2-b027-a092b96473ca",
   "metadata": {},
   "outputs": [
    {
     "name": "stdout",
     "output_type": "stream",
     "text": [
      "('Andi', 'Budi', 'Caca')\n",
      "{'name': 'Dedi', 'address': {'street': 'Cisaat', 'number': 21, 'province': 'West Java'}, 'age': 23, 'isMarried': True}\n",
      "West Java\n"
     ]
    }
   ],
   "source": [
    "#Tuple\n",
    "names = (\"Andi\",\"Budi\",\"Caca\")\n",
    "print(names)\n",
    "#names[0] = \"Rudi\" akan menyebabkan error, karena tauple adalah immutable\n",
    "\n",
    "studentData = {\n",
    "    \"name\" : \"Dedi\",\n",
    "    \"address\" : {\n",
    "        \"street\" : \"Cisaat\",\n",
    "        \"number\" : 21,\n",
    "        \"province\" : \"West Java\"\n",
    "    },\n",
    "    \"age\" : 23,\n",
    "    \"isMarried\" : True\n",
    "}\n",
    "    \n",
    "print(studentData)\n",
    "print(studentData[\"address\"][\"province\"])#West Java"
   ]
  },
  {
   "cell_type": "code",
   "execution_count": 15,
   "id": "9671ee9c-f694-4011-86a7-3f536a92d527",
   "metadata": {},
   "outputs": [
    {
     "name": "stdout",
     "output_type": "stream",
     "text": [
      "{'name': 'Budi', 'address': {'street': 'Bogor', 'number': 25, 'province': 'West Java'}, 'age': 25, 'isMarried': False}\n",
      "football\n",
      "23\n"
     ]
    }
   ],
   "source": [
    "#List of dictionary\n",
    "listStudent = [\n",
    "    {\n",
    "        \"name\" : \"Dedi\",\n",
    "        \"address\" : {\n",
    "        \"street\" : \"Cisaat\",\n",
    "        \"number\" : 21,\n",
    "        \"province\" : \"West Java\"\n",
    "    },\n",
    "        \"hobbies\" : [\"basket\",\"football\"],\n",
    "        \"age\" : 23,\n",
    "        \"isMarried\" : True\n",
    "    },\n",
    "    {\n",
    "        \"name\" : \"Budi\",\n",
    "        \"address\" : {\n",
    "        \"street\" : \"Bogor\",\n",
    "        \"number\" : 25,\n",
    "        \"province\" : \"West Java\"\n",
    "    },\n",
    "    \"age\" : 25,\n",
    "    \"isMarried\" : False\n",
    "    }\n",
    "]\n",
    "\n",
    "print(listStudent[1]) #Semua data dari Budi. jika [0]-semua data dari Dedi\n",
    "print(listStudent[0][\"hobbies\"][1]) #Football-hobi Dedi urutan ke 2\n",
    "print(listStudent[0][\"age\"]) #23-umur Dedi"
   ]
  },
  {
   "cell_type": "code",
   "execution_count": 19,
   "id": "6b379ade-2857-4409-b5f3-79f93909b53e",
   "metadata": {},
   "outputs": [
    {
     "name": "stdout",
     "output_type": "stream",
     "text": [
      "{'name': 'Dika', 'nilai': 80}\n",
      "{'Buah': 'Apel', 'Harga': 10000}\n",
      "{'name': 'dah', 'age': 15}\n",
      "{'Buah': 'Mangga', 'Harga': 5000}\n",
      "{'name': 'Adi', 'age': 20, 'address': 'Bandung'}\n"
     ]
    }
   ],
   "source": [
    "#Casting dictionary\n",
    "\n",
    "list_tuple = [(\"name\",\"Dika\"),(\"nilai\",80)]\n",
    "dictStudent = dict(list_tuple)\n",
    "print(dictStudent)\n",
    "\n",
    "list_list = [[\"Buah\",\"Apel\"],[\"Harga\",10000]]\n",
    "dictBuah = dict(list_list)\n",
    "print(dictBuah)\n",
    "\n",
    "tuple_tuple = ((\"name\",\"dah\"),(\"age\",15))\n",
    "dictStudent = dict(tuple_tuple)\n",
    "print(dictStudent)\n",
    "\n",
    "tuple_list = ([\"Buah\",\"Mangga\"],[\"Harga\",5000])\n",
    "dictBuah = dict(tuple_list)\n",
    "print(dictBuah)\n",
    "\n",
    "keys = \"name\",\"age\",\"address\"\n",
    "values = [\"Adi\",20,\"Bandung\"]\n",
    "\n",
    "dictData = dict(zip(keys,values))\n",
    "print(dictData)"
   ]
  }
 ],
 "metadata": {
  "kernelspec": {
   "display_name": "Python [conda env:base] *",
   "language": "python",
   "name": "conda-base-py"
  },
  "language_info": {
   "codemirror_mode": {
    "name": "ipython",
    "version": 3
   },
   "file_extension": ".py",
   "mimetype": "text/x-python",
   "name": "python",
   "nbconvert_exporter": "python",
   "pygments_lexer": "ipython3",
   "version": "3.12.7"
  }
 },
 "nbformat": 4,
 "nbformat_minor": 5
}
