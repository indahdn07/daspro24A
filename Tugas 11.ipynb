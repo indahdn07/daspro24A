{
 "cells": [
  {
   "cell_type": "markdown",
   "id": "d9a3e8f7-e049-479a-82e8-25bfb5d60f7b",
   "metadata": {},
   "source": [
    "<b> 1. Mereverse setiap kata dalam kalimat </b><br>\n"
   ]
  },
  {
   "cell_type": "code",
   "execution_count": 52,
   "id": "d962a018-2da7-41bd-8865-e7acdaa9fdce",
   "metadata": {},
   "outputs": [
    {
     "name": "stdout",
     "output_type": "stream",
     "text": [
      "UKA ATNIC UMAK\n"
     ]
    }
   ],
   "source": [
    "def reverse_per_kata(kalimat):\n",
    "    list_kata = kalimat.split() #split digunakan untuk memisahkan kalimat menjadi daftar kata\n",
    "    reverse_kata = [kata[::-1] for kata in list_kata] #Menggunakan list comprehension untuk membalik setiap kata\n",
    "    return ' '.join(reverse_kata) #Menggabungkan kembali daftar kata menjadi kalimat \n",
    "print(reverse_per_kata(\"AKU CINTA KAMU\"))"
   ]
  },
  {
   "cell_type": "markdown",
   "id": "44904398-e4ca-4f97-9dd8-c1bcac238dab",
   "metadata": {},
   "source": [
    "<b> 2. Mengurutkan kata berdasarkan indeks list </b><br>\n"
   ]
  },
  {
   "cell_type": "code",
   "execution_count": 54,
   "id": "6aaa315d-86a9-4410-ae19-780e77aa4a8e",
   "metadata": {},
   "outputs": [
    {
     "name": "stdout",
     "output_type": "stream",
     "text": [
      "PYTHON HARI BELAJAR SEDANG INI\n"
     ]
    }
   ],
   "source": [
    "def urutkan_kalimat(kalimat, urutan):\n",
    "    list_kata = kalimat.split() #split digunakan untuk memisahkan kalimat menjadi daftar kata\n",
    "    urutan_kalimat = [list_kata[i - 1] for i in urutan]#Menyesuaikan indeks karena karena Python menggunakan indeks mulai dari 0  maka harus mengurangi 1 (i - 1)\n",
    "    return ' '.join(urutan_kalimat) #Menggabungkan kembali daftar kata menjadi kalimat \n",
    "print (urutkan_kalimat(\" HARI INI SEDANG BELAJAR PYTHON \", [5, 1, 4, 3, 2]))"
   ]
  },
  {
   "cell_type": "markdown",
   "id": "d825b33c-8a85-4d83-a985-94ce534729f5",
   "metadata": {},
   "source": [
    "<b>3. Mengganti huruf vokal dengan simbol tertentu </b><br>\n"
   ]
  },
  {
   "cell_type": "code",
   "execution_count": 48,
   "id": "a0f4a09e-a182-4a85-baa2-8e628f3f74ef",
   "metadata": {},
   "outputs": [
    {
     "name": "stdout",
     "output_type": "stream",
     "text": [
      "Ak|_| C1nt4 K4m|_|\n",
      "4ku Cinta Kamu\n"
     ]
    }
   ],
   "source": [
    "def ganti_vokal(kalimat, opsi):\n",
    "    vokal_kecil = {'a': '4', 'i': '1', 'u': '|_|', 'e': '3', 'o': '0'} #mengganti huruf vokal kecil\n",
    "    vokal_kapital = {'A': '4', 'I': '1', 'U': '|_|', 'E': '3', 'O': '0'} #mengganti huruf vokal kapital\n",
    "    hasil = \"\" #menampung hasil kalimat setelah diubah\n",
    "    for huruf in kalimat:\n",
    "        if opsi == 1 and huruf in vokal_kecil: #jika menggunakan huruf kecil\n",
    "            hasil += vokal_kecil[huruf]  #menambahkan versi simbol ke hasil\n",
    "        elif opsi == 2 and huruf in vokal_kapital: ##jika menggunakan huruf kapital\n",
    "            hasil += vokal_kapital[huruf] #menambahkan versi simbol ke hasil\n",
    "        else:\n",
    "            hasil += huruf\n",
    "    return hasil\n",
    "print(ganti_vokal(\"Aku Cinta Kamu\", 1))\n",
    "print(ganti_vokal(\"Aku Cinta Kamu\", 2))"
   ]
  }
 ],
 "metadata": {
  "kernelspec": {
   "display_name": "Python [conda env:base] *",
   "language": "python",
   "name": "conda-base-py"
  },
  "language_info": {
   "codemirror_mode": {
    "name": "ipython",
    "version": 3
   },
   "file_extension": ".py",
   "mimetype": "text/x-python",
   "name": "python",
   "nbconvert_exporter": "python",
   "pygments_lexer": "ipython3",
   "version": "3.12.7"
  }
 },
 "nbformat": 4,
 "nbformat_minor": 5
}
