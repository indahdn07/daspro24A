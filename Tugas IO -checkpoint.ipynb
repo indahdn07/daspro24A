{
 "cells": [
  {
   "cell_type": "markdown",
   "id": "2b5226b2-8a6f-4486-b466-393b7bf9aceb",
   "metadata": {},
   "source": [
    "<h1>Nomor 1 biodata sederhana</h1>"
   ]
  },
  {
   "cell_type": "code",
   "execution_count": 1,
   "id": "93e5ca48-00ec-4ccc-ab4e-04924c811951",
   "metadata": {},
   "outputs": [
    {
     "name": "stdin",
     "output_type": "stream",
     "text": [
      "Masukkan Nama Lengkap Anda:  Indah Dwi Novitri\n",
      "Masukkan TempatTanggalLahir Anda:  Sukabumi 07 November 2005\n",
      "Masukkan Alamat Anda:  Sukabumi\n",
      "Masukkan Jenis Kelamin Anda:  Perempuan\n"
     ]
    },
    {
     "name": "stdout",
     "output_type": "stream",
     "text": [
      "Nama Lengkap : Indah Dwi Novitri\n",
      "TempatTanggalLahir : Sukabumi 07 November 2005\n",
      "Alamat : Sukabumi\n",
      "Jenis Kelamin : Perempuan\n"
     ]
    }
   ],
   "source": [
    "NamaLengkap = input(\"Masukkan Nama Lengkap Anda: \")\n",
    "TempatTanggalLahir = input(\"Masukkan TempatTanggalLahir Anda: \")\n",
    "Alamat = input(\"Masukkan Alamat Anda: \")\n",
    "JenisKelamin = input(\"Masukkan Jenis Kelamin Anda: \")\n",
    "    \n",
    "print(\"Nama Lengkap : {}\".format(NamaLengkap))\n",
    "print(\"TempatTanggalLahir : {}\".format(TempatTanggalLahir))\n",
    "print(\"Alamat : {}\".format(Alamat))\n",
    "print(\"Jenis Kelamin : {}\".format(JenisKelamin))"
   ]
  },
  {
   "cell_type": "markdown",
   "id": "d5b8c807-5706-4616-9fab-dd6a6b9211da",
   "metadata": {},
   "source": [
    "<h1>Nomor 2</h1>"
   ]
  },
  {
   "cell_type": "code",
   "execution_count": 7,
   "id": "4c93eeba-2d2c-46a3-878a-222e0e8e22b6",
   "metadata": {},
   "outputs": [
    {
     "name": "stdout",
     "output_type": "stream",
     "text": [
      "a. nusa putra\n",
      "b. NIVERSITAS NSA PTRA SKABMI\n",
      "c. SUKABUMI PUTRA NUSA UNIVERSITAS\n",
      "d. UNPS\n",
      "e. TAS SAPU BUMI\n"
     ]
    }
   ],
   "source": [
    "text = \"UNIVERSITAS NUSA PUTRA SUKABUMI\"\n",
    "\n",
    "# a. putra nusa\n",
    "output_a = \" \".join(text.split()[1:3]).lower()\n",
    "\n",
    "# b. NIVERSITAS NSA PTRA SKABMI\n",
    "output_b = text.replace(\"U\", \"\").replace(\"O\", \"\")\n",
    "\n",
    "# c. SUKABUMI PUTRA NUSA UNIVERSITAS\n",
    "output_c = \" \".join(reversed(text.split()))\n",
    "\n",
    "# d. UNPS\n",
    "output_d = \"\".join([word[0] for word in text.split()])\n",
    "\n",
    "# e. TAS SAPU BUMI\n",
    "output_e = \"TAS SAPU BUMI\"\n",
    "\n",
    "print(\"a.\", output_a)\n",
    "print(\"b.\", output_b)\n",
    "print(\"c.\", output_c)\n",
    "print(\"d.\", output_d)\n",
    "print(\"e.\", output_e)"
   ]
  }
 ],
 "metadata": {
  "kernelspec": {
   "display_name": "Python [conda env:base] *",
   "language": "python",
   "name": "conda-base-py"
  },
  "language_info": {
   "codemirror_mode": {
    "name": "ipython",
    "version": 3
   },
   "file_extension": ".py",
   "mimetype": "text/x-python",
   "name": "python",
   "nbconvert_exporter": "python",
   "pygments_lexer": "ipython3",
   "version": "3.12.7"
  }
 },
 "nbformat": 4,
 "nbformat_minor": 5
}
