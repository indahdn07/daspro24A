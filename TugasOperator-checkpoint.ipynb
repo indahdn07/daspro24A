{
 "cells": [
  {
   "cell_type": "markdown",
   "id": "5d0a1e66-8fb7-4ff1-93b6-b061e50f3d38",
   "metadata": {},
   "source": [
    "<h1>1. Operator Aritmatika</h1>"
   ]
  },
  {
   "cell_type": "code",
   "execution_count": 1,
   "id": "4788f9bb-e194-47f8-b697-50d51622df25",
   "metadata": {},
   "outputs": [
    {
     "name": "stdout",
     "output_type": "stream",
     "text": [
      "a. Jika Budi memiliki 12 apel, maka setiap teman budi akan mendapatkan 3 buah apel\n",
      "b. Jika budi diberi 8 apel tambahan, maka total buah apel yang dimiliki Budi yaitu 20 buah apel\n"
     ]
    }
   ],
   "source": [
    "apelBudi = 12\n",
    "temanBudi = 4\n",
    "apelTambahan = 8\n",
    "\n",
    "print (\"a. Jika Budi memiliki 12 apel, maka setiap teman budi akan mendapatkan\", apelBudi//temanBudi, \"buah apel\")\n",
    "\n",
    "print (\"b. Jika budi diberi 8 apel tambahan, maka total buah apel yang dimiliki Budi yaitu\", apelBudi + apelTambahan, \"buah apel\")"
   ]
  },
  {
   "cell_type": "markdown",
   "id": "9c300560-a7fc-4dff-811d-9f16994d48c8",
   "metadata": {},
   "source": [
    "<h1>2. Operator Perbandingan</h1>"
   ]
  },
  {
   "cell_type": "code",
   "execution_count": 41,
   "id": "cbb49e61-19eb-44d9-8d3f-4cf4469da34f",
   "metadata": {},
   "outputs": [
    {
     "name": "stdout",
     "output_type": "stream",
     "text": [
      "Apakah tinggi Siti = tinggi Andi?: False\n",
      "Apakah tinggi Siti != tinggi Andi?: True\n",
      "Apakah tinggi Siti > tinggi Andi?: False\n",
      "Apakah tinggi Siti >= tinggi Andi?: False\n",
      "Apakah tinggi Siti < tinggi Andi?: True\n",
      "Apakah tinggi Siti <= tinggi Andi?: True\n",
      "jadi yang memiliki tinggi badan lebih tinggi antara Siti dan Andi adalah  Andi\n"
     ]
    }
   ],
   "source": [
    "tinggiSiti = 160\n",
    "tinggiAndi = 165\n",
    "\n",
    "print (\"Apakah tinggi Siti = tinggi Andi?:\", tinggiSiti==tinggiAndi)\n",
    "print (\"Apakah tinggi Siti != tinggi Andi?:\", tinggiSiti!=tinggiAndi)\n",
    "print (\"Apakah tinggi Siti > tinggi Andi?:\", tinggiSiti>tinggiAndi)\n",
    "print (\"Apakah tinggi Siti >= tinggi Andi?:\", tinggiSiti>=tinggiAndi)\n",
    "print (\"Apakah tinggi Siti < tinggi Andi?:\", tinggiSiti<tinggiAndi)\n",
    "print (\"Apakah tinggi Siti <= tinggi Andi?:\", tinggiSiti<=tinggiAndi)\n",
    "\n",
    "print(\"jadi yang memiliki tinggi badan lebih tinggi antara Siti dan Andi adalah \", \"Andi\" if tinggiAndi > tinggiSiti else \"Siti\")"
   ]
  },
  {
   "cell_type": "markdown",
   "id": "3d29cae3-56a8-4aac-9327-4b43e1801d13",
   "metadata": {},
   "source": [
    "<h1>3. Operator Logika</h1>"
   ]
  },
  {
   "cell_type": "code",
   "execution_count": 5,
   "id": "0c85fd0d-fda1-4718-b6fc-7b013fa87b3d",
   "metadata": {},
   "outputs": [
    {
     "name": "stdout",
     "output_type": "stream",
     "text": [
      "Apakah Budi bisa bermain di luar? True\n"
     ]
    }
   ],
   "source": [
    "cuacaCerah = True  \n",
    "prSelesai = True   \n",
    "\n",
    "bisaBermain = cuacaCerah and prSelesai  \n",
    "print(\"Apakah Budi bisa bermain di luar?\", bisaBermain)"
   ]
  },
  {
   "cell_type": "markdown",
   "id": "4ce76c8c-c6b4-4e8d-adfb-619392642264",
   "metadata": {},
   "source": [
    "<h1>4. Operator Bitwise</h1>"
   ]
  },
  {
   "cell_type": "code",
   "execution_count": 39,
   "id": "09acc40a-4417-421c-9430-da2fceb87e81",
   "metadata": {},
   "outputs": [
    {
     "name": "stdout",
     "output_type": "stream",
     "text": [
      "Biner dari  6 : 0b110\n",
      "Biner dari  3 : 0b11\n",
      "0b110\n",
      "0b11\n",
      "------- &\n",
      "0b10\n",
      "Hasil desimalnya adalah:  2\n",
      "0b110\n",
      "0b11\n",
      "------- |\n",
      "0b111\n",
      "Hasil desimalnya adalah:  7\n",
      "0b110\n",
      "0b11\n",
      "------- ^\n",
      "0b101\n",
      "Hasil desimalnya adalah:  5\n"
     ]
    }
   ],
   "source": [
    "num1 = 6\n",
    "num2 = 3\n",
    "print (\"Biner dari \", num1,\":\", bin (num1))\n",
    "print (\"Biner dari \", num2,\":\", bin (num2))\n",
    "\n",
    "#Bitwise and (&)\n",
    "bitwiseAnd = num1 & num2\n",
    "print (bin(num1))\n",
    "print (bin(num2))\n",
    "print (\"------- &\")\n",
    "print (bin(bitwiseAnd))\n",
    "print (\"Hasil desimalnya adalah: \", bitwiseAnd)\n",
    "\n",
    "#Bitwise Or (|)\n",
    "bitwiseOr = num1|num2\n",
    "print (bin(num1))\n",
    "print (bin(num2))\n",
    "print (\"------- |\")\n",
    "print (bin(bitwiseOr))\n",
    "print (\"Hasil desimalnya adalah: \", bitwiseOr)\n",
    "\n",
    "#Bitwise XOR (^)\n",
    "bitwiseXor = num1^num2\n",
    "print (bin(num1))\n",
    "print (bin(num2))\n",
    "print (\"------- ^\")\n",
    "print (bin(bitwiseXor))\n",
    "print (\"Hasil desimalnya adalah: \", bitwiseXor)"
   ]
  },
  {
   "cell_type": "markdown",
   "id": "3343b4da-d3f5-426d-96e1-d74d015ea32d",
   "metadata": {},
   "source": [
    "<h1>5. Operator Penugasan</h1>"
   ]
  },
  {
   "cell_type": "code",
   "execution_count": 9,
   "id": "42a2af23-6e7a-4c71-b7d6-5d8c5c1ff3d8",
   "metadata": {},
   "outputs": [
    {
     "name": "stdout",
     "output_type": "stream",
     "text": [
      "Saldo pulsa awal yang dimiliki Siswa  : 50000\n",
      "Saldo pulsa setelah ditambahkan saldo : 70000\n",
      "Saldo pulsa setelah dibelikan paket internet:  40000\n",
      "Maka sisa saldo pulsa yang dimiliki siswa adalah 40000\n"
     ]
    }
   ],
   "source": [
    "saldoSiswa = 50000\n",
    "isiSaldo = 20000\n",
    "paketInternet = 30000\n",
    "\n",
    "print(\"Saldo pulsa awal yang dimiliki Siswa  :\", saldoSiswa)\n",
    "saldoSiswa+=isiSaldo\n",
    "print(\"Saldo pulsa setelah ditambahkan saldo :\", saldoSiswa)\n",
    "saldoSiswa-=paketInternet\n",
    "print(\"Saldo pulsa setelah dibelikan paket internet: \", saldoSiswa)\n",
    "\n",
    "print (\"Maka sisa saldo pulsa yang dimiliki siswa adalah\", saldoSiswa)"
   ]
  },
  {
   "cell_type": "markdown",
   "id": "7d30b4af-2a8b-4bd7-8a14-1512f69bf7df",
   "metadata": {},
   "source": [
    "<h1>6. Operator Keanggotaan</h1>"
   ]
  },
  {
   "cell_type": "code",
   "execution_count": 11,
   "id": "5ab8cdbd-e733-40f3-9ea3-dbf702491563",
   "metadata": {},
   "outputs": [
    {
     "name": "stdout",
     "output_type": "stream",
     "text": [
      "Apakah Eka terdaftar? False\n",
      "Apakah kata pyhton ada di kalimat True\n"
     ]
    }
   ],
   "source": [
    "nama = \"Eka\"\n",
    "listPeserta = [\"Andi\",\"Budi\",\"Citra\",\"Dewi\"]\n",
    "\n",
    "print(\"Apakah Eka terdaftar?\",nama in listPeserta)\n",
    "\n",
    "kalimat = \"Saya suka belajar bahasa pyhton\"\n",
    "cariKata = \"pyhton\"\n",
    "\n",
    "print(\"Apakah kata\",cariKata,\"ada di kalimat\",cariKata in kalimat)"
   ]
  },
  {
   "cell_type": "markdown",
   "id": "19abdf9c-e3e9-42c5-b284-8d9be2201fbc",
   "metadata": {},
   "source": [
    "<h1>7. Operator Identitas</h1>"
   ]
  },
  {
   "cell_type": "code",
   "execution_count": 24,
   "id": "ea7e57f8-fae7-4a3a-bf9e-d0f40eec23e2",
   "metadata": {},
   "outputs": [
    {
     "name": "stdout",
     "output_type": "stream",
     "text": [
      "Apakah x dan y merujuk ke objek yang sama dalam memori? True\n",
      "Apakah x dan y di list tersebut mengacu ke objek yang sama True\n",
      "Apakah list1 dan list2 mengacu ke objek yang sama False\n"
     ]
    }
   ],
   "source": [
    "x = 15\n",
    "y = 15\n",
    "print (\"Apakah x dan y merujuk ke objek yang sama dalam memori?\", x is y)\n",
    "\n",
    "x =\"shark\"\n",
    "y =\"shark\"\n",
    "\n",
    "print (\"Apakah x dan y di list tersebut mengacu ke objek yang sama\", x is y)\n",
    "\n",
    "list1 = [\"shark\", \"puppy\", \"kitten\", \"bear\"]\n",
    "list2 = [\"shark\", \"puppy\", \"kitten\", \"bear\"]\n",
    "\n",
    "print (\"Apakah list1 dan list2 mengacu ke objek yang sama\", list1 is list2)"
   ]
  },
  {
   "cell_type": "markdown",
   "id": "e12c31b9-d367-4970-9cc5-fd2d257420a3",
   "metadata": {},
   "source": [
    "<h1>8. Operator Ternary</h1>"
   ]
  },
  {
   "cell_type": "code",
   "execution_count": 37,
   "id": "b1595cd2-aa34-45e7-8e14-6e5866abb334",
   "metadata": {},
   "outputs": [
    {
     "name": "stdin",
     "output_type": "stream",
     "text": [
      "Masukan angka: 89\n"
     ]
    },
    {
     "name": "stdout",
     "output_type": "stream",
     "text": [
      "Angka tidak lebih dari 100\n"
     ]
    },
    {
     "name": "stdin",
     "output_type": "stream",
     "text": [
      "Masukan nilai ujian: 90\n"
     ]
    },
    {
     "name": "stdout",
     "output_type": "stream",
     "text": [
      "Lulus\n"
     ]
    }
   ],
   "source": [
    "angka = int(input(\"Masukan angka:\"))\n",
    "hasil =\"Angka lebih besar dari 100\" if angka > 100 else \"Angka tidak lebih dari 100\"\n",
    "print(hasil)\n",
    "\n",
    "nilaiUjian = int(input(\"Masukan nilai ujian:\"))\n",
    "\n",
    "kelulusan = \"Lulus\" if angka > 70 else \"Tidak Lulus\"\n",
    "print(kelulusan)"
   ]
  }
 ],
 "metadata": {
  "kernelspec": {
   "display_name": "Python [conda env:base] *",
   "language": "python",
   "name": "conda-base-py"
  },
  "language_info": {
   "codemirror_mode": {
    "name": "ipython",
    "version": 3
   },
   "file_extension": ".py",
   "mimetype": "text/x-python",
   "name": "python",
   "nbconvert_exporter": "python",
   "pygments_lexer": "ipython3",
   "version": "3.12.7"
  }
 },
 "nbformat": 4,
 "nbformat_minor": 5
}
