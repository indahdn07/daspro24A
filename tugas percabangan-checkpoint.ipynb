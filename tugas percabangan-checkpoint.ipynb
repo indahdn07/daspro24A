{
 "cells": [
  {
   "cell_type": "markdown",
   "id": "5f1e5a60-8333-4fb2-ab07-d60101635780",
   "metadata": {},
   "source": [
    "Buatlah program yang meminta pengguna memasukkan usia seseorang, lalu tentukan apakah dia\n",
    "anak-anak (0-12 tahun), remaja (13-17 tahun), dewasa (18-59 tahun), atau lansia (60 tahun ke atas)."
   ]
  },
  {
   "cell_type": "code",
   "execution_count": 2,
   "id": "73a8df73-d218-4f32-bb31-5eff71940352",
   "metadata": {},
   "outputs": [
    {
     "name": "stdin",
     "output_type": "stream",
     "text": [
      "Masukan usia: 17\n"
     ]
    },
    {
     "name": "stdout",
     "output_type": "stream",
     "text": [
      "remaja berusia 13 - 17 tahun\n"
     ]
    }
   ],
   "source": [
    "usia = int(input(\"Masukan usia:\"))\n",
    "\n",
    "if usia <= 12:\n",
    "    print(\"anak-anak berusia 0 - 12 tahun\")\n",
    "elif usia <= 17:\n",
    "    print(\"remaja berusia 13 - 17 tahun\")\n",
    "elif usia <= 59:\n",
    "    print(\"dewasa berusia 18 - 59 tahun\")\n",
    "else:\n",
    "    print(\"lansia berusia 60 tahun ke atas\")"
   ]
  },
  {
   "cell_type": "markdown",
   "id": "5fe8f47a-b783-4c15-808a-0563df719a74",
   "metadata": {},
   "source": [
    "Sebuah taman hiburan memiliki aturan harga tiket berdasarkan usia:\n",
    "\n",
    "1. Anak-anak (0-12 tahun): Rp 10.000\n",
    "2. Remaja (13-17 tahun): Rp 15.000\n",
    "3. Dewasa (18-59 tahun): Rp 25.000\n",
    "4. Lansia (60 tahun ke atas): Gratis\n",
    "Buat program untuk menentukan harga tiket berdasarkan usia yang dimasukkan pengguna dan total harga yang harus dibayar, jika terdapat 3 input seperti berikut ini"
   ]
  },
  {
   "cell_type": "code",
   "execution_count": 6,
   "id": "4a1c2d44-7fd3-4ad2-9141-1692e97508ce",
   "metadata": {},
   "outputs": [
    {
     "name": "stdin",
     "output_type": "stream",
     "text": [
      "Isikan Umur Tiket 1: 16\n"
     ]
    },
    {
     "name": "stdout",
     "output_type": "stream",
     "text": [
      "\n",
      "Harga tiket 1 adalah Rp 15000\n"
     ]
    },
    {
     "name": "stdin",
     "output_type": "stream",
     "text": [
      "Isikan Umur Tiket 2:  65\n"
     ]
    },
    {
     "name": "stdout",
     "output_type": "stream",
     "text": [
      "Harga tiket 2 adalah Rp 0\n"
     ]
    },
    {
     "name": "stdin",
     "output_type": "stream",
     "text": [
      "Isikan Umur Tiket 3:  5\n"
     ]
    },
    {
     "name": "stdout",
     "output_type": "stream",
     "text": [
      "Harga tiket 3 adalah Rp 10000\n"
     ]
    }
   ],
   "source": [
    "# Tiket 1\n",
    "tiket1 = int(input(\"Isikan Umur Tiket 1:\"))\n",
    "if tiket1 <= 12:\n",
    "    hargaTiket1 = 10000\n",
    "    print(f\"\\nHarga tiket 1 adalah Rp {hargaTiket1}\")\n",
    "elif tiket1 <= 17:\n",
    "    hargaTiket1 = 15000\n",
    "    print(f\"\\nHarga tiket 1 adalah Rp {hargaTiket1}\")\n",
    "elif tiket1 <= 59:\n",
    "    hargaTiket1 = 25000\n",
    "    print(f\"\\nHarga tiket 1 adalah Rp {hargaTiket1}\")\n",
    "else:\n",
    "    hargaTiket1 = 0\n",
    "    print(f\"\\nHarga tiket 1 adalah Rp {hargaTiket1}\")\n",
    "\n",
    "# Tiket 2\n",
    "tiket2 = int(input(\"Isikan Umur Tiket 2: \"))\n",
    "if tiket2 <= 12:\n",
    "    hargaTiket2 = 10000\n",
    "    print(f\"Harga tiket 2 adalah Rp {hargaTiket2}\")\n",
    "elif tiket2 <= 17:\n",
    "    hargaTiket2 = 15000\n",
    "    print(f\"Harga tiket 2 adalah Rp {hargaTiket2}\")\n",
    "elif tiket2 <= 59:\n",
    "    hargaTiket2 = 25000\n",
    "    print(f\"Harga tiket 2 adalah Rp {hargaTiket2}\")\n",
    "else:\n",
    "    hargaTiket2 = 0\n",
    "    print(f\"Harga tiket 2 adalah Rp {hargaTiket2}\")\n",
    "\n",
    "# Tiket 3\n",
    "tiket3 = int(input(\"Isikan Umur Tiket 3: \"))\n",
    "if tiket3 <= 12:\n",
    "    hargaTiket3 = 10000\n",
    "    print(f\"Harga tiket 3 adalah Rp {hargaTiket3}\")\n",
    "elif tiket3 <= 17:\n",
    "    hargaTiket3 = 15000\n",
    "    print(f\"Harga tiket 3 adalah Rp {hargaTiket3}\")\n",
    "elif tiket3 <= 59:\n",
    "    hargaTiket3 = 25000\n",
    "    print(f\"Harga tiket 3 adalah Rp {hargaTiket3}\")\n",
    "else:\n",
    "    hargaTiket3 = 0\n",
    "    print(f\"Harga tiket 3 adalah Rp {hargaTiket3}\")\n",
    "\n"
   ]
  },
  {
   "cell_type": "markdown",
   "id": "c7b4b93f-7740-4256-8dbf-9f50d15e5981",
   "metadata": {},
   "source": [
    "Sebuah restoran memiliki diskon khusus: Anak-anak (0-12 tahun) diskon 50% Lansia (60 tahun ke atas) diskon 30% Selain itu, tidak ada diskon Buat program untuk menghitung harga yang harus dibayar setelah diskon diberikan."
   ]
  },
  {
   "cell_type": "code",
   "execution_count": 10,
   "id": "5fe4fbcf-faaf-4248-932d-5b9f98bd3ba2",
   "metadata": {},
   "outputs": [
    {
     "name": "stdin",
     "output_type": "stream",
     "text": [
      "Masukkan harga makanan:  400000\n",
      "Masukkan usia:  62\n"
     ]
    },
    {
     "name": "stdout",
     "output_type": "stream",
     "text": [
      "Harga makanan sebelum diskon: Rp 400000\n",
      "Anda mendapat diskon sebesar 30.0%\n",
      "Harga yang harus dibayar setelah mendapatkan diskon 30.0% adalah Rp 280000.0\n"
     ]
    }
   ],
   "source": [
    "hargaMakanan = int(input(\"Masukkan harga makanan: \"))\n",
    "usia = int(input(\"Masukkan usia: \"))\n",
    "\n",
    "if usia <= 12:\n",
    "    diskon = 0.50 \n",
    "elif usia >= 60:\n",
    "    diskon = 0.30 \n",
    "else:\n",
    "    diskon = 0 \n",
    "\n",
    "jumlahDiskon = hargaMakanan * diskon\n",
    "hargaTotal = hargaMakanan - jumlahDiskon\n",
    "\n",
    "print(f\"Harga makanan sebelum diskon: Rp {hargaMakanan}\")\n",
    "print(f\"Anda mendapat diskon sebesar {diskon * 100}%\")\n",
    "print(f\"Harga yang harus dibayar setelah mendapatkan diskon {diskon * 100}% adalah Rp {hargaTotal}\")"
   ]
  },
  {
   "cell_type": "markdown",
   "id": "502a4fc0-b95a-48c1-b66e-419075b82eae",
   "metadata": {},
   "source": [
    "Program beasiswa:\n",
    "\n",
    "1. Jika nilai rapor ≥ 90 dan penghasilan orang tua < Rp 5.000.000 → Beasiswa Penuh\n",
    "2. Jika nilai rapor ≥ 85 dan penghasilan orang tua < Rp 8.000.000 → Beasiswa 50%\n",
    "3. Jika tidak memenuhi syarat di atas → Tidak mendapatkan beasiswa"
   ]
  },
  {
   "cell_type": "code",
   "execution_count": 12,
   "id": "27b68311-11f8-42e0-b411-b22b628c39b3",
   "metadata": {},
   "outputs": [
    {
     "name": "stdin",
     "output_type": "stream",
     "text": [
      "Masukan nilai rapor: 90\n",
      "Masukan penghasilan orang tua: 10000000\n"
     ]
    },
    {
     "name": "stdout",
     "output_type": "stream",
     "text": [
      "Tidak mendapatkan beasiswa\n"
     ]
    }
   ],
   "source": [
    "nilaiRapor = int(input(\"Masukan nilai rapor:\"))\n",
    "penghasilanOrTu = int(input(\"Masukan penghasilan orang tua:\"))\n",
    "\n",
    "if nilaiRapor >= 90 and penghasilanOrTu < 5000000:\n",
    "    print(\"Beasiswa Penuh\")\n",
    "elif nilaiRapor >= 85 and penghasilanOrTu < 8000000:\n",
    "    print(\"Beasiswa 50%\")\n",
    "else:\n",
    "    print(\"Tidak mendapatkan beasiswa\")"
   ]
  },
  {
   "cell_type": "markdown",
   "id": "d306ca47-8364-445f-9137-56dabc756bdd",
   "metadata": {},
   "source": [
    "Suatu aplikasi streaming memiliki batasan usia:\n",
    "\n",
    "1. Film Semua Umur: Bisa ditonton oleh siapa saja\n",
    "2. Film Remaja: Hanya untuk usia ≥ 13 tahun\n",
    "3. Film Dewasa: Hanya untuk usia ≥ 18 tahun\n",
    "Buat program yang meminta input usia dan kategori film, lalu tentukan apakah seseorang boleh menonton film tersebut atau tidak."
   ]
  },
  {
   "cell_type": "code",
   "execution_count": 1,
   "id": "7a723877-7bf3-4358-982c-1003f1de9ad4",
   "metadata": {},
   "outputs": [
    {
     "name": "stdin",
     "output_type": "stream",
     "text": [
      "Masukkan usia Anda:  17\n"
     ]
    },
    {
     "name": "stdout",
     "output_type": "stream",
     "text": [
      "Kategori Film: \n",
      "- Semua Umur \n",
      "- Remaja \n",
      "- Dewasa\n"
     ]
    },
    {
     "name": "stdin",
     "output_type": "stream",
     "text": [
      "Masukkan kategori film:  remaja\n"
     ]
    },
    {
     "name": "stdout",
     "output_type": "stream",
     "text": [
      "Anda diperbolehkan menonton film ini.\n"
     ]
    }
   ],
   "source": [
    "usia = int(input(\"Masukkan usia Anda: \"))\n",
    "print(f\"Kategori Film: \\n- Semua Umur \\n- Remaja \\n- Dewasa\")\n",
    "kategori = input(\"Masukkan kategori film: \").lower()\n",
    "if kategori == \"semua umur\":\n",
    "    print(\"Anda diperbolehkan menonton film ini.\")\n",
    "elif kategori == \"remaja\" and usia >= 13:\n",
    "    print(\"Anda diperbolehkan menonton film ini.\")\n",
    "elif kategori == \"dewasa\" and usia >= 18:\n",
    "    print(\"Anda diperbolehkan menonton film ini.\")\n",
    "else:\n",
    "    print(\"Anda tidak diperbolehkan menonton film ini.\")"
   ]
  },
  {
   "cell_type": "markdown",
   "id": "5dc2053b-9a40-4024-b91f-e11b8e5d7e8d",
   "metadata": {},
   "source": [
    "Sebuah toko memberikan diskon berdasarkan jumlah pembelian:\n",
    "\n",
    "1. Jika total belanja ≥ Rp 500.000 → Diskon 20%\n",
    "2. Jika total belanja ≥ Rp 250.000 → Diskon 10%\n",
    "3. Jika total belanja < Rp 250.000 → Tidak ada diskon\n",
    "\n",
    "Hitung harga akhir setelah diskon."
   ]
  },
  {
   "cell_type": "code",
   "execution_count": 24,
   "id": "6763ced1-32b7-4973-aa68-7b47edfb7d49",
   "metadata": {},
   "outputs": [
    {
     "name": "stdin",
     "output_type": "stream",
     "text": [
      "Masukan total belanja: 5000000\n"
     ]
    },
    {
     "name": "stdout",
     "output_type": "stream",
     "text": [
      "\n",
      "Total belanja sebelum diskon: Rp 5000000\n",
      "\n",
      "Anda mendapat diskon sebesar 20.0%\n",
      "\n",
      "Harga akhir setelah mendapatkan diskon 20.0% adalah Rp 4000000.0\n"
     ]
    }
   ],
   "source": [
    "totalBelanja = int(input(\"Masukan total belanja:\"))\n",
    "\n",
    "if totalBelanja >= 500000:\n",
    "    diskon = 0.20\n",
    "elif totalBelanja >= 250000:\n",
    "    diskon = 0.10\n",
    "else:\n",
    "    diskon = 0\n",
    "\n",
    "totalSetelahDiskon = totalBelanja * diskon\n",
    "hargaAkhir = totalBelanja - totalSetelahDiskon\n",
    "\n",
    "print(f\"\\nTotal belanja sebelum diskon: Rp {totalBelanja}\")\n",
    "print(f\"\\nAnda mendapat diskon sebesar {diskon * 100}%\")\n",
    "print(f\"\\nHarga akhir setelah mendapatkan diskon {diskon * 100}% adalah Rp {hargaAkhir}\")"
   ]
  },
  {
   "cell_type": "markdown",
   "id": "09b00062-aeb1-42ac-b6c9-2725e446d2dd",
   "metadata": {},
   "source": [
    "Program parkir:\n",
    "\n",
    "Mobil: Rp 5.000 per jam\n",
    "Motor: Rp 2.000 per jam\n",
    "Jika parkir lebih dari 5 jam, ada biaya tambahan Rp 10.000\n",
    "Hitung total biaya parkir berdasarkan jenis kendaraan dan durasi parkir."
   ]
  },
  {
   "cell_type": "code",
   "execution_count": 38,
   "id": "797f1e3f-6ccf-4489-8918-ed9021dee58b",
   "metadata": {},
   "outputs": [
    {
     "name": "stdout",
     "output_type": "stream",
     "text": [
      "\n",
      "kategori kendaraan: \n",
      "- Mobil \n",
      "- Motor\n",
      "\n"
     ]
    },
    {
     "name": "stdin",
     "output_type": "stream",
     "text": [
      "Masukan kategori kendaraan: motor\n"
     ]
    },
    {
     "name": "stdout",
     "output_type": "stream",
     "text": [
      "\n",
      "kategori kendaraan: \n",
      "Mobil: Rp 5.000 per jam \n",
      "Motor: Rp 2.000 per jam \n",
      "Jika parkir lebih dari 5 jam, ada biaya tambahan Rp 10.000 \n",
      "\n"
     ]
    },
    {
     "name": "stdin",
     "output_type": "stream",
     "text": [
      "Masukan berapa jam anda parkir: 7\n"
     ]
    },
    {
     "name": "stdout",
     "output_type": "stream",
     "text": [
      "\n",
      "Karena parkir lebih dari 5 jam, ada biaya tambahan Rp 10.000\n",
      "\n",
      "Total biaya parkir adalah Rp 24000\n"
     ]
    }
   ],
   "source": [
    "print(f\"\\nkategori kendaraan: \\n- Mobil \\n- Motor\\n\")\n",
    "kendaraan = input(\"Masukan kategori kendaraan:\")\n",
    "\n",
    "print(f\"\\nkategori kendaraan: \\nMobil: Rp 5.000 per jam \\nMotor: Rp 2.000 per jam \\nJika parkir lebih dari 5 jam, ada biaya tambahan Rp 10.000 \\n\")\n",
    "jamParkir = int(input(\"Masukan berapa jam anda parkir:\"))\n",
    "\n",
    "if kendaraan == \"mobil\":\n",
    "    biayaPerJam = 5000\n",
    "elif kendaraan == \"motor\":\n",
    "    biayaPerJam = 2000\n",
    "\n",
    "biaya = biayaPerJam * jamParkir\n",
    "if jamParkir > 5:\n",
    "    biaya += 10000\n",
    "    print(f\"\\nKarena parkir lebih dari 5 jam, ada biaya tambahan Rp 10.000\")\n",
    "\n",
    "print(f\"\\nTotal biaya parkir adalah Rp {biaya}\")"
   ]
  },
  {
   "cell_type": "markdown",
   "id": "2da853e2-c5be-4ed4-aded-02b0bfe99789",
   "metadata": {},
   "source": [
    "Aplikasi transportasi online memiliki tarif sebagai berikut:\n",
    "\n",
    "1. Jika jarak ≤ 5 km → Rp 5.000/km\n",
    "2. Jika jarak 6-10 km → Rp 4.000/km\n",
    "3. Jika jarak > 10 km → Rp 3.000/km\n",
    "   \n",
    "Hitung tarif perjalanan berdasarkan jarak yang dimasukkan pengguna."
   ]
  },
  {
   "cell_type": "code",
   "execution_count": 9,
   "id": "fd16ee6b-1da0-4c8c-acb5-a35168944de8",
   "metadata": {},
   "outputs": [
    {
     "name": "stdin",
     "output_type": "stream",
     "text": [
      "Masukkan jarak perjalanan:  14\n"
     ]
    },
    {
     "name": "stdout",
     "output_type": "stream",
     "text": [
      "Tarif perjalanan untuk 14 km adalah: Rp 42000\n"
     ]
    }
   ],
   "source": [
    "jarak = int(input(\"Masukkan jarak perjalanan: \"))\n",
    "\n",
    "if jarak <= 5:\n",
    "    tarif_per_km = 5000\n",
    "elif jarak <= 10:\n",
    "    tarif_per_km = 4000\n",
    "else:\n",
    "    tarif_per_km = 3000\n",
    "\n",
    "totalTarif = tarif_per_km * jarak\n",
    "\n",
    "print(f\"Tarif perjalanan untuk {jarak} km adalah: Rp {totalTarif}\")"
   ]
  },
  {
   "cell_type": "markdown",
   "id": "4af3a3aa-6b1e-4afd-b95b-837b38c73f0e",
   "metadata": {},
   "source": [
    "Buatlah sebuah sistem penerimaan calon programmer yang akan menerima dua nilai ( nilai coding dan nilai interview). Untuk penilaian test coding skala penilaian yang diberikan dimulai dari 0 hingga 100 dengan sistem penilaian:\n",
    "\n",
    "1. ketika seseorang mendapatkan nilai lebih dari 80 maka peserta tersebut akan mendapatkan hasil tes LOLOS\n",
    "2. ketika sesorang mendapatkan nilai diantara 60 hingga 80 maka peserta tersebut mendapatkan hasil tes DIPERTIMBANGKAN\n",
    "3. ketika seseorang mendapatkan nilai dibawah 60 maka peserta tersebut mendapatkan hasil tes GAGAL.\n",
    "\n",
    "Sedangkan untuk penilaian interview adalah\n",
    "1. ketika nilai yang diberikan kepada seseorang tersebut adalah \"A\" atau \"B\" maka peserta tersebut dianggap LOLOS interview\n",
    "selain kedua nilai tersebut maka peserta dianggap GAGAL tes interview.\n",
    "2. Ketika calon programmer mendapatkan nilai coding LOLOS atau DIPERTIMBANGKAN dan juga LOLOS test interview maka tampilkanlah pesan \"Selamat Kamu Berhasil Menjadi Calon Programmer\". Jika tidak maka tampilkanlah pesan \"Maaf Kamu Belum Berhasil Menjadi Calon Programmer\""
   ]
  },
  {
   "cell_type": "code",
   "execution_count": 32,
   "id": "d3ce045c-324c-4e19-ba83-4d8debfedc5d",
   "metadata": {},
   "outputs": [
    {
     "name": "stdin",
     "output_type": "stream",
     "text": [
      "Masukkan nilai coding (0-100):  80\n",
      "Masukkan nilai interview (A/B/C/D/E):  A\n"
     ]
    },
    {
     "name": "stdout",
     "output_type": "stream",
     "text": [
      "Selamat Kamu Berhasil Menjadi Calon Programmer\n"
     ]
    }
   ],
   "source": [
    "nilaiCoding = int(input(\"Masukkan nilai coding (0-100): \"))\n",
    "\n",
    "nilaiInterview = input(\"Masukkan nilai interview (A/B/C/D/E): \")\n",
    "\n",
    "# Penilaian nilai coding\n",
    "if nilaiCoding > 80:\n",
    "    hasilCoding = \"LOLOS\"\n",
    "elif nilaiCoding >= 60:\n",
    "    hasilCoding = \"DIPERTIMBANGKAN\"\n",
    "else:\n",
    "    hasilCoding = \"GAGAL\"\n",
    "\n",
    "# Penilaian nilai interview\n",
    "if nilaiInterview == \"A\" or nilaiInterview == \"B\":\n",
    "    hasilInterview = \"LOLOS\"\n",
    "else:\n",
    "    hasilInterview = \"GAGAL\"\n",
    "\n",
    "# Menentukan kelulusan calon programmer\n",
    "if (hasilCoding == \"LOLOS\" or hasilCoding == \"DIPERTIMBANGKAN\") and hasilInterview == \"LOLOS\":\n",
    "    print(\"Selamat Kamu Berhasil Menjadi Calon Programmer\")\n",
    "else:\n",
    "    print(\"Maaf Kamu Belum Berhasil Menjadi Calon Programmer\")"
   ]
  },
  {
   "cell_type": "markdown",
   "id": "337a6310-f08e-4f0b-a0a0-a127602d8243",
   "metadata": {},
   "source": [
    "Sebuah klub sepak bola “PERSEGI FC” mempunyai aturan dalam memberikan nomor punggung bagi para pemainnya. Para pemain diperbolehkan mempunyai posisi lebih dari 1. Berikut adalah beberapa aturannya:\n",
    "\n",
    "1. Untuk nomor punggung genap, digunakan untuk posisi “target attacker”\n",
    "2. Untuk nomor punggung genap antara 50 – 100, digunakan untuk pemain yang “berhak dipilih menjadi capten team”\n",
    "3. Untuk nomor punggung ganjil, digunakan untuk posisi “defender”\n",
    "4. Untuk nomor punggung ganjil lebih dari 90, digunakan untuk posisi “Playmaker”\n",
    "5. Untuk nomor punggung ganjil kelipatan dari 3 dan 5, digunakan untuk posisi “keeper”\n",
    "   \n",
    "Buatlah program untuk melakukan pengecekan sebuah nomor punggung dapat berfungsi sebagai posisi apa saja."
   ]
  },
  {
   "cell_type": "code",
   "execution_count": 5,
   "id": "878dbae2-25f9-41fa-96f7-7533fbbd49b6",
   "metadata": {},
   "outputs": [
    {
     "name": "stdin",
     "output_type": "stream",
     "text": [
      "Masukkan nomor punggung:  90\n"
     ]
    },
    {
     "name": "stdout",
     "output_type": "stream",
     "text": [
      "Pemain ini berhak dipilih menjadi captain team\n"
     ]
    }
   ],
   "source": [
    "nomorPunggung = int(input(\"Masukkan nomor punggung: \"))\n",
    "\n",
    "if nomorPunggung % 2 == 0:\n",
    "    posisi = \"Target Attacker\"\n",
    "    if nomorPunggung >= 50 and nomorPunggung <= 100:\n",
    "        posisi = \"Pemain ini berhak dipilih menjadi captain team\"\n",
    "else:\n",
    "    posisi = \"Defender\"\n",
    "    if nomorPunggung > 90:\n",
    "        posisi = \"Playmaker\"\n",
    "    if nomorPunggung % 3 == 0 and nomorPunggung % 5 == 0:\n",
    "        posisi = \"Keeper\"\n",
    "\n",
    "print(posisi)"
   ]
  }
 ],
 "metadata": {
  "kernelspec": {
   "display_name": "Python [conda env:base] *",
   "language": "python",
   "name": "conda-base-py"
  },
  "language_info": {
   "codemirror_mode": {
    "name": "ipython",
    "version": 3
   },
   "file_extension": ".py",
   "mimetype": "text/x-python",
   "name": "python",
   "nbconvert_exporter": "python",
   "pygments_lexer": "ipython3",
   "version": "3.12.7"
  }
 },
 "nbformat": 4,
 "nbformat_minor": 5
}
